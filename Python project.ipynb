{
 "cells": [
  {
   "cell_type": "code",
   "execution_count": 43,
   "id": "adc4640d",
   "metadata": {},
   "outputs": [],
   "source": [
    "import numpy as np \n",
    "import pandas as pd\n",
    "import matplotlib.pyplot as plt\n",
    "import pandas_datareader as pdr\n",
    "import streamlit as st"
   ]
  },
  {
   "cell_type": "code",
   "execution_count": 44,
   "id": "b8363935",
   "metadata": {},
   "outputs": [
    {
     "data": {
      "text/html": [
       "<div>\n",
       "<style scoped>\n",
       "    .dataframe tbody tr th:only-of-type {\n",
       "        vertical-align: middle;\n",
       "    }\n",
       "\n",
       "    .dataframe tbody tr th {\n",
       "        vertical-align: top;\n",
       "    }\n",
       "\n",
       "    .dataframe thead th {\n",
       "        text-align: right;\n",
       "    }\n",
       "</style>\n",
       "<table border=\"1\" class=\"dataframe\">\n",
       "  <thead>\n",
       "    <tr style=\"text-align: right;\">\n",
       "      <th></th>\n",
       "      <th>High</th>\n",
       "      <th>Low</th>\n",
       "      <th>Open</th>\n",
       "      <th>Close</th>\n",
       "      <th>Volume</th>\n",
       "      <th>Adj Close</th>\n",
       "    </tr>\n",
       "    <tr>\n",
       "      <th>Date</th>\n",
       "      <th></th>\n",
       "      <th></th>\n",
       "      <th></th>\n",
       "      <th></th>\n",
       "      <th></th>\n",
       "      <th></th>\n",
       "    </tr>\n",
       "  </thead>\n",
       "  <tbody>\n",
       "    <tr>\n",
       "      <th>2017-08-21</th>\n",
       "      <td>69.164001</td>\n",
       "      <td>66.370003</td>\n",
       "      <td>69.164001</td>\n",
       "      <td>67.571999</td>\n",
       "      <td>32477000.0</td>\n",
       "      <td>67.571999</td>\n",
       "    </tr>\n",
       "    <tr>\n",
       "      <th>2017-08-22</th>\n",
       "      <td>68.447998</td>\n",
       "      <td>67.473999</td>\n",
       "      <td>68.225998</td>\n",
       "      <td>68.269997</td>\n",
       "      <td>21610000.0</td>\n",
       "      <td>68.269997</td>\n",
       "    </tr>\n",
       "    <tr>\n",
       "      <th>2017-08-23</th>\n",
       "      <td>70.697998</td>\n",
       "      <td>67.660004</td>\n",
       "      <td>67.797997</td>\n",
       "      <td>70.554001</td>\n",
       "      <td>24772500.0</td>\n",
       "      <td>70.554001</td>\n",
       "    </tr>\n",
       "    <tr>\n",
       "      <th>2017-08-24</th>\n",
       "      <td>71.332001</td>\n",
       "      <td>69.947998</td>\n",
       "      <td>70.503998</td>\n",
       "      <td>70.585999</td>\n",
       "      <td>22923500.0</td>\n",
       "      <td>70.585999</td>\n",
       "    </tr>\n",
       "    <tr>\n",
       "      <th>2017-08-25</th>\n",
       "      <td>71.138000</td>\n",
       "      <td>69.459999</td>\n",
       "      <td>70.848000</td>\n",
       "      <td>69.610001</td>\n",
       "      <td>17420000.0</td>\n",
       "      <td>69.610001</td>\n",
       "    </tr>\n",
       "  </tbody>\n",
       "</table>\n",
       "</div>"
      ],
      "text/plain": [
       "                 High        Low       Open      Close      Volume  Adj Close\n",
       "Date                                                                         \n",
       "2017-08-21  69.164001  66.370003  69.164001  67.571999  32477000.0  67.571999\n",
       "2017-08-22  68.447998  67.473999  68.225998  68.269997  21610000.0  68.269997\n",
       "2017-08-23  70.697998  67.660004  67.797997  70.554001  24772500.0  70.554001\n",
       "2017-08-24  71.332001  69.947998  70.503998  70.585999  22923500.0  70.585999\n",
       "2017-08-25  71.138000  69.459999  70.848000  69.610001  17420000.0  69.610001"
      ]
     },
     "execution_count": 44,
     "metadata": {},
     "output_type": "execute_result"
    }
   ],
   "source": [
    "\n",
    "df = pdr.DataReader('TSLA', 'yahoo')\n",
    "df.head()\n"
   ]
  },
  {
   "cell_type": "code",
   "execution_count": 3,
   "id": "96da4a39",
   "metadata": {},
   "outputs": [
    {
     "data": {
      "text/html": [
       "<div>\n",
       "<style scoped>\n",
       "    .dataframe tbody tr th:only-of-type {\n",
       "        vertical-align: middle;\n",
       "    }\n",
       "\n",
       "    .dataframe tbody tr th {\n",
       "        vertical-align: top;\n",
       "    }\n",
       "\n",
       "    .dataframe thead th {\n",
       "        text-align: right;\n",
       "    }\n",
       "</style>\n",
       "<table border=\"1\" class=\"dataframe\">\n",
       "  <thead>\n",
       "    <tr style=\"text-align: right;\">\n",
       "      <th></th>\n",
       "      <th>High</th>\n",
       "      <th>Low</th>\n",
       "      <th>Open</th>\n",
       "      <th>Close</th>\n",
       "      <th>Volume</th>\n",
       "      <th>Adj Close</th>\n",
       "    </tr>\n",
       "    <tr>\n",
       "      <th>Date</th>\n",
       "      <th></th>\n",
       "      <th></th>\n",
       "      <th></th>\n",
       "      <th></th>\n",
       "      <th></th>\n",
       "      <th></th>\n",
       "    </tr>\n",
       "  </thead>\n",
       "  <tbody>\n",
       "    <tr>\n",
       "      <th>2022-08-12</th>\n",
       "      <td>900.479980</td>\n",
       "      <td>855.099976</td>\n",
       "      <td>868.250000</td>\n",
       "      <td>900.090027</td>\n",
       "      <td>26443300.0</td>\n",
       "      <td>900.090027</td>\n",
       "    </tr>\n",
       "    <tr>\n",
       "      <th>2022-08-15</th>\n",
       "      <td>939.400024</td>\n",
       "      <td>903.690002</td>\n",
       "      <td>905.359985</td>\n",
       "      <td>927.960022</td>\n",
       "      <td>29786400.0</td>\n",
       "      <td>927.960022</td>\n",
       "    </tr>\n",
       "    <tr>\n",
       "      <th>2022-08-16</th>\n",
       "      <td>944.000000</td>\n",
       "      <td>908.650024</td>\n",
       "      <td>935.000000</td>\n",
       "      <td>919.690002</td>\n",
       "      <td>29378800.0</td>\n",
       "      <td>919.690002</td>\n",
       "    </tr>\n",
       "    <tr>\n",
       "      <th>2022-08-17</th>\n",
       "      <td>928.969971</td>\n",
       "      <td>900.099976</td>\n",
       "      <td>910.190002</td>\n",
       "      <td>911.989990</td>\n",
       "      <td>22922000.0</td>\n",
       "      <td>911.989990</td>\n",
       "    </tr>\n",
       "    <tr>\n",
       "      <th>2022-08-18</th>\n",
       "      <td>919.500000</td>\n",
       "      <td>905.559998</td>\n",
       "      <td>918.000000</td>\n",
       "      <td>908.609985</td>\n",
       "      <td>15796700.0</td>\n",
       "      <td>908.609985</td>\n",
       "    </tr>\n",
       "  </tbody>\n",
       "</table>\n",
       "</div>"
      ],
      "text/plain": [
       "                  High         Low        Open       Close      Volume  \\\n",
       "Date                                                                     \n",
       "2022-08-12  900.479980  855.099976  868.250000  900.090027  26443300.0   \n",
       "2022-08-15  939.400024  903.690002  905.359985  927.960022  29786400.0   \n",
       "2022-08-16  944.000000  908.650024  935.000000  919.690002  29378800.0   \n",
       "2022-08-17  928.969971  900.099976  910.190002  911.989990  22922000.0   \n",
       "2022-08-18  919.500000  905.559998  918.000000  908.609985  15796700.0   \n",
       "\n",
       "             Adj Close  \n",
       "Date                    \n",
       "2022-08-12  900.090027  \n",
       "2022-08-15  927.960022  \n",
       "2022-08-16  919.690002  \n",
       "2022-08-17  911.989990  \n",
       "2022-08-18  908.609985  "
      ]
     },
     "execution_count": 3,
     "metadata": {},
     "output_type": "execute_result"
    }
   ],
   "source": [
    "df.tail()"
   ]
  },
  {
   "cell_type": "code",
   "execution_count": 4,
   "id": "7130c0e0",
   "metadata": {},
   "outputs": [],
   "source": [
    "df = df.reset_index()\n"
   ]
  },
  {
   "cell_type": "code",
   "execution_count": 5,
   "id": "b322dd61",
   "metadata": {},
   "outputs": [],
   "source": [
    "df = df.drop(['Date', 'High', 'Low', 'Open', 'Volume', 'Adj Close'], axis = 1)"
   ]
  },
  {
   "cell_type": "code",
   "execution_count": 6,
   "id": "1a593a3c",
   "metadata": {},
   "outputs": [
    {
     "data": {
      "text/html": [
       "<div>\n",
       "<style scoped>\n",
       "    .dataframe tbody tr th:only-of-type {\n",
       "        vertical-align: middle;\n",
       "    }\n",
       "\n",
       "    .dataframe tbody tr th {\n",
       "        vertical-align: top;\n",
       "    }\n",
       "\n",
       "    .dataframe thead th {\n",
       "        text-align: right;\n",
       "    }\n",
       "</style>\n",
       "<table border=\"1\" class=\"dataframe\">\n",
       "  <thead>\n",
       "    <tr style=\"text-align: right;\">\n",
       "      <th></th>\n",
       "      <th>Close</th>\n",
       "    </tr>\n",
       "  </thead>\n",
       "  <tbody>\n",
       "    <tr>\n",
       "      <th>0</th>\n",
       "      <td>67.571999</td>\n",
       "    </tr>\n",
       "    <tr>\n",
       "      <th>1</th>\n",
       "      <td>68.269997</td>\n",
       "    </tr>\n",
       "    <tr>\n",
       "      <th>2</th>\n",
       "      <td>70.554001</td>\n",
       "    </tr>\n",
       "    <tr>\n",
       "      <th>3</th>\n",
       "      <td>70.585999</td>\n",
       "    </tr>\n",
       "    <tr>\n",
       "      <th>4</th>\n",
       "      <td>69.610001</td>\n",
       "    </tr>\n",
       "  </tbody>\n",
       "</table>\n",
       "</div>"
      ],
      "text/plain": [
       "       Close\n",
       "0  67.571999\n",
       "1  68.269997\n",
       "2  70.554001\n",
       "3  70.585999\n",
       "4  69.610001"
      ]
     },
     "execution_count": 6,
     "metadata": {},
     "output_type": "execute_result"
    }
   ],
   "source": [
    "df.head()"
   ]
  },
  {
   "cell_type": "code",
   "execution_count": 7,
   "id": "3734e7c7",
   "metadata": {},
   "outputs": [
    {
     "data": {
      "text/plain": [
       "[<matplotlib.lines.Line2D at 0x1d44f097520>]"
      ]
     },
     "execution_count": 7,
     "metadata": {},
     "output_type": "execute_result"
    },
    {
     "data": {
      "image/png": "[encoded data removed]",
      "text/plain": [
       "<Figure size 432x288 with 1 Axes>"
      ]
     },
     "metadata": {
      "needs_background": "light"
     },
     "output_type": "display_data"
    }
   ],
   "source": [
    "plt.plot(df.Close)"
   ]
  },
  {
   "cell_type": "code",
   "execution_count": 8,
   "id": "3336ff53",
   "metadata": {},
   "outputs": [],
   "source": [
    "ma100 = df.Close.rolling(100).mean()\n",
    "ma200 = df.Close.rolling(200).mean()"
   ]
  },
  {
   "cell_type": "code",
   "execution_count": 9,
   "id": "a8a619bc",
   "metadata": {},
   "outputs": [
    {
     "data": {
      "text/plain": [
       "[<matplotlib.lines.Line2D at 0x1d44f0db1f0>]"
      ]
     },
     "execution_count": 9,
     "metadata": {},
     "output_type": "execute_result"
    },
    {
     "data": {
      "image/png": "[encoded data removed]",
      "text/plain": [
       "<Figure size 864x432 with 1 Axes>"
      ]
     },
     "metadata": {
      "needs_background": "light"
     },
     "output_type": "display_data"
    }
   ],
   "source": [
    "plt.figure(figsize = (12,6))\n",
    "plt.plot(df.Close)\n",
    "plt.plot(ma100, 'y')\n",
    "plt.plot(ma200, 'g')"
   ]
  },
  {
   "cell_type": "code",
   "execution_count": 10,
   "id": "175e3489",
   "metadata": {},
   "outputs": [
    {
     "data": {
      "text/plain": [
       "(1258, 1)"
      ]
     },
     "execution_count": 10,
     "metadata": {},
     "output_type": "execute_result"
    }
   ],
   "source": [
    "df.shape"
   ]
  },
  {
   "cell_type": "code",
   "execution_count": 11,
   "id": "2368557f",
   "metadata": {},
   "outputs": [],
   "source": [
    "#splitting data into trainig and testing\n",
    "data_training = pd.DataFrame(df['Close'][0:int(len(df)*0.70)])\n",
    "data_testing = pd.DataFrame(df['Close'][int(len(df)*0.70):int(len(df))])"
   ]
  },
  {
   "cell_type": "code",
   "execution_count": 12,
   "id": "a3d8d17b",
   "metadata": {},
   "outputs": [
    {
     "data": {
      "text/plain": [
       "(880, 1)"
      ]
     },
     "execution_count": 12,
     "metadata": {},
     "output_type": "execute_result"
    }
   ],
   "source": [
    "data_training.shape\n"
   ]
  },
  {
   "cell_type": "code",
   "execution_count": 13,
   "id": "fca40284",
   "metadata": {},
   "outputs": [
    {
     "data": {
      "text/plain": [
       "(378, 1)"
      ]
     },
     "execution_count": 13,
     "metadata": {},
     "output_type": "execute_result"
    }
   ],
   "source": [
    "data_testing.shape"
   ]
  },
  {
   "cell_type": "code",
   "execution_count": 14,
   "id": "508df026",
   "metadata": {},
   "outputs": [],
   "source": [
    "from sklearn.preprocessing import MinMaxScaler\n",
    "scaler = MinMaxScaler(feature_range = (0,1))"
   ]
  },
  {
   "cell_type": "code",
   "execution_count": 15,
   "id": "02e61d71",
   "metadata": {},
   "outputs": [],
   "source": [
    "training_array = scaler.fit_transform(data_training)\n"
   ]
  },
  {
   "cell_type": "code",
   "execution_count": 16,
   "id": "2bd40933",
   "metadata": {},
   "outputs": [],
   "source": [
    "x_train = []\n",
    "y_train = []\n",
    "\n",
    "\n",
    "for i in range(100, training_array.shape[0]):\n",
    "    x_train.append(training_array[i-100:i])\n",
    "    y_train.append(training_array[i,0])\n",
    "\n",
    "x_train , y_train = np.array(x_train) , np.array(y_train)"
   ]
  },
  {
   "cell_type": "code",
   "execution_count": 17,
   "id": "fd65e8b4",
   "metadata": {},
   "outputs": [],
   "source": [
    "#ML Model\n"
   ]
  },
  {
   "cell_type": "code",
   "execution_count": 18,
   "id": "4d974f63",
   "metadata": {},
   "outputs": [],
   "source": [
    "from keras.layers import Dense, Dropout, LSTM\n",
    "from keras.models import Sequential"
   ]
  },
  {
   "cell_type": "code",
   "execution_count": 19,
   "id": "624221ea",
   "metadata": {},
   "outputs": [],
   "source": [
    "model = Sequential()\n",
    "model.add(LSTM(units = 50, activation = 'relu', return_sequences = True, input_shape = (x_train.shape[1], 1) ))\n",
    "model.add(Dropout(0.05))\n",
    "\n",
    "model.add(LSTM(units = 60, activation = 'relu', return_sequences = True))\n",
    "model.add(Dropout(0.1))\n",
    "\n",
    "model.add(LSTM(units = 80, activation = 'relu', return_sequences = True))\n",
    "model.add(Dropout(0.15))\n",
    "\n",
    "model.add(LSTM(units = 120, activation = 'relu'))\n",
    "model.add(Dropout(0.2))\n",
    "\n",
    "model.add(Dense(units = 1))"
   ]
  },
  {
   "cell_type": "code",
   "execution_count": 20,
   "id": "0040b405",
   "metadata": {},
   "outputs": [
    {
     "name": "stdout",
     "output_type": "stream",
     "text": [
      "Model: \"sequential\"\n",
      "_________________________________________________________________\n",
      " Layer (type)                Output Shape              Param #   \n",
      "=================================================================\n",
      " lstm (LSTM)                 (None, 100, 50)           10400     \n",
      "                                                                 \n",
      " dropout (Dropout)           (None, 100, 50)           0         \n",
      "                                                                 \n",
      " lstm_1 (LSTM)               (None, 100, 60)           26640     \n",
      "                                                                 \n",
      " dropout_1 (Dropout)         (None, 100, 60)           0         \n",
      "                                                                 \n",
      " lstm_2 (LSTM)               (None, 100, 80)           45120     \n",
      "                                                                 \n",
      " dropout_2 (Dropout)         (None, 100, 80)           0         \n",
      "                                                                 \n",
      " lstm_3 (LSTM)               (None, 120)               96480     \n",
      "                                                                 \n",
      " dropout_3 (Dropout)         (None, 120)               0         \n",
      "                                                                 \n",
      " dense (Dense)               (None, 1)                 121       \n",
      "                                                                 \n",
      "=================================================================\n",
      "Total params: 178,761\n",
      "Trainable params: 178,761\n",
      "Non-trainable params: 0\n",
      "_________________________________________________________________\n"
     ]
    }
   ],
   "source": [
    "model.summary()"
   ]
  },
  {
   "cell_type": "code",
   "execution_count": 22,
   "id": "2b1032ad",
   "metadata": {},
   "outputs": [
    {
     "name": "stdout",
     "output_type": "stream",
     "text": [
      "Epoch 1/50\n",
      "25/25 [==============================] - 12s 250ms/step - loss: 0.0031\n",
      "Epoch 2/50\n",
      "25/25 [==============================] - 8s 317ms/step - loss: 0.0029\n",
      "Epoch 3/50\n",
      "25/25 [==============================] - 7s 286ms/step - loss: 0.0023\n",
      "Epoch 4/50\n",
      "25/25 [==============================] - 8s 312ms/step - loss: 0.0017\n",
      "Epoch 5/50\n",
      "25/25 [==============================] - 7s 298ms/step - loss: 0.0031\n",
      "Epoch 6/50\n",
      "25/25 [==============================] - 8s 300ms/step - loss: 0.0022\n",
      "Epoch 7/50\n",
      "25/25 [==============================] - 8s 335ms/step - loss: 0.0019\n",
      "Epoch 8/50\n",
      "25/25 [==============================] - 9s 353ms/step - loss: 0.0023\n",
      "Epoch 9/50\n",
      "25/25 [==============================] - 9s 340ms/step - loss: 0.0020\n",
      "Epoch 10/50\n",
      "25/25 [==============================] - 8s 305ms/step - loss: 0.0020\n",
      "Epoch 11/50\n",
      "25/25 [==============================] - 8s 327ms/step - loss: 0.0019\n",
      "Epoch 12/50\n",
      "25/25 [==============================] - 8s 322ms/step - loss: 0.0016\n",
      "Epoch 13/50\n",
      "25/25 [==============================] - 8s 305ms/step - loss: 0.0021\n",
      "Epoch 14/50\n",
      "25/25 [==============================] - 8s 319ms/step - loss: 0.0019\n",
      "Epoch 15/50\n",
      "25/25 [==============================] - 8s 335ms/step - loss: 0.0020\n",
      "Epoch 16/50\n",
      "25/25 [==============================] - 9s 341ms/step - loss: 0.0028\n",
      "Epoch 17/50\n",
      "25/25 [==============================] - 8s 305ms/step - loss: 0.0020\n",
      "Epoch 18/50\n",
      "25/25 [==============================] - 8s 308ms/step - loss: 0.0017\n",
      "Epoch 19/50\n",
      "25/25 [==============================] - 7s 277ms/step - loss: 0.0016\n",
      "Epoch 20/50\n",
      "25/25 [==============================] - 9s 350ms/step - loss: 0.0020\n",
      "Epoch 21/50\n",
      "25/25 [==============================] - 8s 316ms/step - loss: 0.0015\n",
      "Epoch 22/50\n",
      "25/25 [==============================] - 8s 307ms/step - loss: 0.0015\n",
      "Epoch 23/50\n",
      "25/25 [==============================] - 8s 311ms/step - loss: 0.0016\n",
      "Epoch 24/50\n",
      "25/25 [==============================] - 8s 334ms/step - loss: 0.0017\n",
      "Epoch 25/50\n",
      "25/25 [==============================] - 7s 294ms/step - loss: 0.0018\n",
      "Epoch 26/50\n",
      "25/25 [==============================] - 9s 376ms/step - loss: 0.0018\n",
      "Epoch 27/50\n",
      "25/25 [==============================] - 7s 276ms/step - loss: 0.0018\n",
      "Epoch 28/50\n",
      "25/25 [==============================] - 7s 279ms/step - loss: 0.0021\n",
      "Epoch 29/50\n",
      "25/25 [==============================] - 7s 274ms/step - loss: 0.0019\n",
      "Epoch 30/50\n",
      "25/25 [==============================] - 8s 314ms/step - loss: 0.0016\n",
      "Epoch 31/50\n",
      "25/25 [==============================] - 7s 302ms/step - loss: 0.0015\n",
      "Epoch 32/50\n",
      "25/25 [==============================] - 7s 276ms/step - loss: 0.0017\n",
      "Epoch 33/50\n",
      "25/25 [==============================] - 7s 295ms/step - loss: 0.0014\n",
      "Epoch 34/50\n",
      "25/25 [==============================] - 7s 283ms/step - loss: 0.0014\n",
      "Epoch 35/50\n",
      "25/25 [==============================] - 7s 292ms/step - loss: 0.0016\n",
      "Epoch 36/50\n",
      "25/25 [==============================] - 7s 295ms/step - loss: 0.0016\n",
      "Epoch 37/50\n",
      "25/25 [==============================] - 7s 291ms/step - loss: 0.0011\n",
      "Epoch 38/50\n",
      "25/25 [==============================] - 7s 295ms/step - loss: 0.0015\n",
      "Epoch 39/50\n",
      "25/25 [==============================] - 12s 415ms/step - loss: 0.0013\n",
      "Epoch 40/50\n",
      "25/25 [==============================] - 10s 390ms/step - loss: 0.0011\n",
      "Epoch 41/50\n",
      "25/25 [==============================] - 10s 385ms/step - loss: 0.0011\n",
      "Epoch 42/50\n",
      "25/25 [==============================] - 9s 378ms/step - loss: 0.0013\n",
      "Epoch 43/50\n",
      "25/25 [==============================] - 10s 388ms/step - loss: 0.0013\n",
      "Epoch 44/50\n",
      "25/25 [==============================] - 10s 390ms/step - loss: 0.0011\n",
      "Epoch 45/50\n",
      "25/25 [==============================] - 10s 383ms/step - loss: 0.0011\n",
      "Epoch 46/50\n",
      "25/25 [==============================] - 10s 400ms/step - loss: 0.0016\n",
      "Epoch 47/50\n",
      "25/25 [==============================] - 10s 381ms/step - loss: 0.0013\n",
      "Epoch 48/50\n",
      "25/25 [==============================] - 10s 391ms/step - loss: 0.0013\n",
      "Epoch 49/50\n",
      "25/25 [==============================] - 10s 385ms/step - loss: 0.0012\n",
      "Epoch 50/50\n",
      "25/25 [==============================] - 10s 384ms/step - loss: 0.0014\n"
     ]
    },
    {
     "data": {
      "text/plain": [
       "<keras.callbacks.History at 0x1d463498c70>"
      ]
     },
     "execution_count": 22,
     "metadata": {},
     "output_type": "execute_result"
    }
   ],
   "source": [
    "model.compile(optimizer = 'adam', loss = 'mean_squared_error')\n",
    "model.fit(x_train, y_train, epochs = 50)"
   ]
  },
  {
   "cell_type": "code",
   "execution_count": 23,
   "id": "fd586fdf",
   "metadata": {},
   "outputs": [],
   "source": [
    " model.save('kears_model2.h5')"
   ]
  },
  {
   "cell_type": "code",
   "execution_count": 24,
   "id": "855a44a7",
   "metadata": {},
   "outputs": [],
   "source": [
    "past100data = data_training.tail(100)"
   ]
  },
  {
   "cell_type": "code",
   "execution_count": 25,
   "id": "c3264878",
   "metadata": {},
   "outputs": [],
   "source": [
    "final_df = past100data.append(data_testing, ignore_index = True)"
   ]
  },
  {
   "cell_type": "code",
   "execution_count": 26,
   "id": "5a5e47ef",
   "metadata": {},
   "outputs": [
    {
     "data": {
      "text/plain": [
       "(478, 1)"
      ]
     },
     "execution_count": 26,
     "metadata": {},
     "output_type": "execute_result"
    }
   ],
   "source": [
    "input_data = scaler.fit_transform(final_df)\n",
    "input_data.shape"
   ]
  },
  {
   "cell_type": "code",
   "execution_count": 27,
   "id": "197e086f",
   "metadata": {},
   "outputs": [],
   "source": [
    "x_test = []\n",
    "y_test = []\n",
    "\n",
    "for i in range(100, input_data.shape[0]) :\n",
    "    x_test.append(input_data[i-100: i])\n",
    "    y_test.append(input_data[i, 0])"
   ]
  },
  {
   "cell_type": "code",
   "execution_count": 28,
   "id": "7e3f7c8e",
   "metadata": {},
   "outputs": [],
   "source": [
    "x_test , y_test = np.array(x_test), np.array(y_test)"
   ]
  },
  {
   "cell_type": "code",
   "execution_count": 29,
   "id": "315d01dc",
   "metadata": {},
   "outputs": [
    {
     "name": "stdout",
     "output_type": "stream",
     "text": [
      "12/12 [==============================] - 1s 59ms/step\n"
     ]
    }
   ],
   "source": [
    "#ModelPredition\n",
    "y_pred = model.predict(x_test)\n"
   ]
  },
  {
   "cell_type": "code",
   "execution_count": 30,
   "id": "a106f441",
   "metadata": {},
   "outputs": [
    {
     "data": {
      "text/plain": [
       "array([0.00118783])"
      ]
     },
     "execution_count": 30,
     "metadata": {},
     "output_type": "execute_result"
    }
   ],
   "source": [
    "scaler.scale_"
   ]
  },
  {
   "cell_type": "code",
   "execution_count": 31,
   "id": "8149a154",
   "metadata": {},
   "outputs": [],
   "source": [
    "scale_factor = 1/scaler.scale_"
   ]
  },
  {
   "cell_type": "code",
   "execution_count": 32,
   "id": "21085e06",
   "metadata": {},
   "outputs": [],
   "source": [
    "y_pred = y_pred * scale_factor\n",
    "y_test = y_test * scale_factor"
   ]
  },
  {
   "cell_type": "code",
   "execution_count": 33,
   "id": "31bd0c79",
   "metadata": {
    "scrolled": false
   },
   "outputs": [
    {
     "data": {
      "text/plain": [
       "<function matplotlib.pyplot.show(close=None, block=None)>"
      ]
     },
     "execution_count": 33,
     "metadata": {},
     "output_type": "execute_result"
    },
    {
     "data": {
      "image/png": "[encoded data removed]",
      "text/plain": [
       "<Figure size 864x432 with 1 Axes>"
      ]
     },
     "metadata": {
      "needs_background": "light"
     },
     "output_type": "display_data"
    }
   ],
   "source": [
    "plt.figure(figsize = (12,6))\n",
    "plt.plot(y_test, 'b', label='Original Values')\n",
    "plt.plot(y_pred, 'y', label='Predicted Values')\n",
    "plt.xlabel('Time')\n",
    "plt.ylabel('Price')\n",
    "plt.legend()\n",
    "plt.show"
   ]
  },
  {
   "cell_type": "code",
   "execution_count": 36,
   "id": "252f5c19",
   "metadata": {},
   "outputs": [
    {
     "data": {
      "text/plain": [
       "10"
      ]
     },
     "execution_count": 36,
     "metadata": {},
     "output_type": "execute_result"
    }
   ],
   "source": []
  },
  {
   "cell_type": "code",
   "execution_count": null,
   "id": "70b668d7",
   "metadata": {},
   "outputs": [],
   "source": []
  }
 ],
 "metadata": {
  "kernelspec": {
   "display_name": "Python 3 (ipykernel)",
   "language": "python",
   "name": "python3"
  },
  "language_info": {
   "codemirror_mode": {
    "name": "ipython",
    "version": 3
   },
   "file_extension": ".py",
   "mimetype": "text/x-python",
   "name": "python",
   "nbconvert_exporter": "python",
   "pygments_lexer": "ipython3",
   "version": "3.9.7"
  }
 },
 "nbformat": 4,
 "nbformat_minor": 5
}
